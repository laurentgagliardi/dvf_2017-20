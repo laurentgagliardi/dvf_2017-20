{
 "cells": [
  {
   "cell_type": "markdown",
   "id": "c343c762",
   "metadata": {},
   "source": [
    "# Analyse des données de valeurs foncières (2017-2020)"
   ]
  },
  {
   "cell_type": "code",
   "execution_count": 1,
   "id": "60443f98",
   "metadata": {},
   "outputs": [],
   "source": [
    "import pandas as pd\n",
    "import numpy as np\n",
    "import plotly.express as px\n",
    "import plotly.io as pio; pio.renderers.default='notebook'\n",
    "from plotly.subplots import make_subplots\n",
    "import matplotlib.pyplot as plt\n",
    "import warnings\n",
    "warnings.filterwarnings('ignore')"
   ]
  },
  {
   "cell_type": "markdown",
   "id": "c0d4db46",
   "metadata": {},
   "source": [
    "### Récupération des .csv"
   ]
  },
  {
   "cell_type": "code",
   "execution_count": 2,
   "id": "b6266038",
   "metadata": {},
   "outputs": [],
   "source": [
    "# Import des .csv via une list comprehension\n",
    "listecsv = ['dvf_2017','dvf_2018','dvf_2019','dvf_2020']\n",
    "file_name = '{}.csv'\n",
    "df_list = []\n",
    "df = pd.concat([pd.read_csv(file_name.format(i)) for i in listecsv])"
   ]
  },
  {
   "cell_type": "code",
   "execution_count": null,
   "id": "bc2a3791",
   "metadata": {},
   "outputs": [],
   "source": [
    "df.shape"
   ]
  },
  {
   "cell_type": "code",
   "execution_count": null,
   "id": "98bcd8e1",
   "metadata": {
    "scrolled": true
   },
   "outputs": [],
   "source": [
    "df.head()"
   ]
  },
  {
   "cell_type": "markdown",
   "id": "7e4824f1",
   "metadata": {},
   "source": [
    "### Feature engineering"
   ]
  },
  {
   "cell_type": "code",
   "execution_count": 3,
   "id": "1cef0c03",
   "metadata": {},
   "outputs": [],
   "source": [
    "#Suppression des colonnes suivantes\n",
    "del df['Code commune']\n",
    "del df['Prefixe de section']\n",
    "del df['Section']\n",
    "del df['Code voie']\n",
    "del df['Voie']\n",
    "del df['No voie']\n",
    "del df['Type de voie']"
   ]
  },
  {
   "cell_type": "code",
   "execution_count": 4,
   "id": "d57ce70c",
   "metadata": {},
   "outputs": [],
   "source": [
    "# Renommage de la colonne \"Unnamed 0\" en \"numero\"\n",
    "df.rename(columns={'Unnamed: 0': 'numero'}, inplace=True)"
   ]
  },
  {
   "cell_type": "code",
   "execution_count": 5,
   "id": "a67e71a2",
   "metadata": {},
   "outputs": [],
   "source": [
    "# Ajout d'un zéro pour les départements concernés\n",
    "df[\"Code departement\"] = df[\"Code departement\"].apply(lambda x: '0' + str(x) if len(str(x)) < 2 else str(x))"
   ]
  },
  {
   "cell_type": "code",
   "execution_count": 6,
   "id": "799c8f74",
   "metadata": {},
   "outputs": [],
   "source": [
    "# Remplacement des NaN de Type local par \"Autres\"\n",
    "df['Type local'] = df['Type local'].replace(np.nan, \"Autres\")"
   ]
  },
  {
   "cell_type": "code",
   "execution_count": 7,
   "id": "e6d24cdf",
   "metadata": {},
   "outputs": [],
   "source": [
    "df['Date mutation'] = pd.to_datetime(df['Date mutation'], errors='coerce')"
   ]
  },
  {
   "cell_type": "code",
   "execution_count": 8,
   "id": "40e82665",
   "metadata": {},
   "outputs": [],
   "source": [
    "# Création de la colonne \"Année\"\n",
    "df['Annee'] = pd.DatetimeIndex(df['Date mutation']).year\n",
    "df['Mois'] = pd.DatetimeIndex(df['Date mutation']).month\n",
    "df['Jour'] = pd.DatetimeIndex(df['Date mutation']).day"
   ]
  },
  {
   "cell_type": "code",
   "execution_count": 21,
   "id": "adfe1166",
   "metadata": {},
   "outputs": [],
   "source": [
    "# Subset par année \n",
    "df_2017 = df[df['Annee'] == 2017]\n",
    "df_2018 = df[df['Annee'] == 2018]\n",
    "df_2019 = df[df['Annee'] == 2019]\n",
    "df_2020 = df[df['Annee'] == 2020]"
   ]
  },
  {
   "cell_type": "code",
   "execution_count": 9,
   "id": "d21ceff2",
   "metadata": {},
   "outputs": [
    {
     "data": {
      "text/html": [
       "<div>\n",
       "<style scoped>\n",
       "    .dataframe tbody tr th:only-of-type {\n",
       "        vertical-align: middle;\n",
       "    }\n",
       "\n",
       "    .dataframe tbody tr th {\n",
       "        vertical-align: top;\n",
       "    }\n",
       "\n",
       "    .dataframe thead th {\n",
       "        text-align: right;\n",
       "    }\n",
       "</style>\n",
       "<table border=\"1\" class=\"dataframe\">\n",
       "  <thead>\n",
       "    <tr style=\"text-align: right;\">\n",
       "      <th></th>\n",
       "      <th>numero</th>\n",
       "      <th>No disposition</th>\n",
       "      <th>Date mutation</th>\n",
       "      <th>Nature mutation</th>\n",
       "      <th>Valeur fonciere</th>\n",
       "      <th>Code postal</th>\n",
       "      <th>Commune</th>\n",
       "      <th>Code departement</th>\n",
       "      <th>Type local</th>\n",
       "      <th>Surface reelle bati</th>\n",
       "      <th>Nombre pieces principales</th>\n",
       "      <th>Nature culture</th>\n",
       "      <th>Surface terrain</th>\n",
       "      <th>Annee</th>\n",
       "      <th>Mois</th>\n",
       "      <th>Jour</th>\n",
       "    </tr>\n",
       "  </thead>\n",
       "  <tbody>\n",
       "    <tr>\n",
       "      <th>0</th>\n",
       "      <td>0</td>\n",
       "      <td>1</td>\n",
       "      <td>2017-02-01</td>\n",
       "      <td>Vente</td>\n",
       "      <td>27000.0</td>\n",
       "      <td>01000</td>\n",
       "      <td>BOURG-EN-BRESSE</td>\n",
       "      <td>01</td>\n",
       "      <td>Appartement</td>\n",
       "      <td>37.0</td>\n",
       "      <td>2.0</td>\n",
       "      <td>NaN</td>\n",
       "      <td>NaN</td>\n",
       "      <td>2017</td>\n",
       "      <td>2</td>\n",
       "      <td>1</td>\n",
       "    </tr>\n",
       "    <tr>\n",
       "      <th>1</th>\n",
       "      <td>1</td>\n",
       "      <td>1</td>\n",
       "      <td>2017-05-01</td>\n",
       "      <td>Vente</td>\n",
       "      <td>115000.0</td>\n",
       "      <td>01960</td>\n",
       "      <td>PERONNAS</td>\n",
       "      <td>01</td>\n",
       "      <td>Autres</td>\n",
       "      <td>NaN</td>\n",
       "      <td>NaN</td>\n",
       "      <td>AB</td>\n",
       "      <td>788.0</td>\n",
       "      <td>2017</td>\n",
       "      <td>5</td>\n",
       "      <td>1</td>\n",
       "    </tr>\n",
       "    <tr>\n",
       "      <th>2</th>\n",
       "      <td>2</td>\n",
       "      <td>1</td>\n",
       "      <td>2017-06-01</td>\n",
       "      <td>Vente</td>\n",
       "      <td>1.0</td>\n",
       "      <td>01380</td>\n",
       "      <td>SAINT-CYR-SUR-MENTHON</td>\n",
       "      <td>01</td>\n",
       "      <td>Autres</td>\n",
       "      <td>NaN</td>\n",
       "      <td>NaN</td>\n",
       "      <td>P</td>\n",
       "      <td>42.0</td>\n",
       "      <td>2017</td>\n",
       "      <td>6</td>\n",
       "      <td>1</td>\n",
       "    </tr>\n",
       "    <tr>\n",
       "      <th>3</th>\n",
       "      <td>3</td>\n",
       "      <td>1</td>\n",
       "      <td>2017-06-01</td>\n",
       "      <td>Vente</td>\n",
       "      <td>1.0</td>\n",
       "      <td>01380</td>\n",
       "      <td>SAINT-CYR-SUR-MENTHON</td>\n",
       "      <td>01</td>\n",
       "      <td>Autres</td>\n",
       "      <td>NaN</td>\n",
       "      <td>NaN</td>\n",
       "      <td>P</td>\n",
       "      <td>77.0</td>\n",
       "      <td>2017</td>\n",
       "      <td>6</td>\n",
       "      <td>1</td>\n",
       "    </tr>\n",
       "    <tr>\n",
       "      <th>4</th>\n",
       "      <td>4</td>\n",
       "      <td>1</td>\n",
       "      <td>2017-06-01</td>\n",
       "      <td>Vente</td>\n",
       "      <td>1.0</td>\n",
       "      <td>01380</td>\n",
       "      <td>SAINT-CYR-SUR-MENTHON</td>\n",
       "      <td>01</td>\n",
       "      <td>Autres</td>\n",
       "      <td>NaN</td>\n",
       "      <td>NaN</td>\n",
       "      <td>P</td>\n",
       "      <td>94.0</td>\n",
       "      <td>2017</td>\n",
       "      <td>6</td>\n",
       "      <td>1</td>\n",
       "    </tr>\n",
       "  </tbody>\n",
       "</table>\n",
       "</div>"
      ],
      "text/plain": [
       "   numero  No disposition Date mutation Nature mutation  Valeur fonciere  \\\n",
       "0       0               1    2017-02-01           Vente          27000.0   \n",
       "1       1               1    2017-05-01           Vente         115000.0   \n",
       "2       2               1    2017-06-01           Vente              1.0   \n",
       "3       3               1    2017-06-01           Vente              1.0   \n",
       "4       4               1    2017-06-01           Vente              1.0   \n",
       "\n",
       "  Code postal                Commune Code departement   Type local  \\\n",
       "0       01000        BOURG-EN-BRESSE               01  Appartement   \n",
       "1       01960               PERONNAS               01       Autres   \n",
       "2       01380  SAINT-CYR-SUR-MENTHON               01       Autres   \n",
       "3       01380  SAINT-CYR-SUR-MENTHON               01       Autres   \n",
       "4       01380  SAINT-CYR-SUR-MENTHON               01       Autres   \n",
       "\n",
       "   Surface reelle bati  Nombre pieces principales Nature culture  \\\n",
       "0                 37.0                        2.0            NaN   \n",
       "1                  NaN                        NaN             AB   \n",
       "2                  NaN                        NaN              P   \n",
       "3                  NaN                        NaN              P   \n",
       "4                  NaN                        NaN              P   \n",
       "\n",
       "   Surface terrain  Annee  Mois  Jour  \n",
       "0              NaN   2017     2     1  \n",
       "1            788.0   2017     5     1  \n",
       "2             42.0   2017     6     1  \n",
       "3             77.0   2017     6     1  \n",
       "4             94.0   2017     6     1  "
      ]
     },
     "execution_count": 9,
     "metadata": {},
     "output_type": "execute_result"
    }
   ],
   "source": [
    "df.head()"
   ]
  },
  {
   "cell_type": "markdown",
   "id": "025ef569",
   "metadata": {},
   "source": [
    "### Exploratory Data Analysis - EDA"
   ]
  },
  {
   "cell_type": "markdown",
   "id": "5a7265f4",
   "metadata": {},
   "source": [
    "#### Valeurs foncières en fonction de l'année : "
   ]
  },
  {
   "cell_type": "code",
   "execution_count": null,
   "id": "11b9249a",
   "metadata": {
    "scrolled": false
   },
   "outputs": [],
   "source": [
    "fig = px.sunburst(df, path=['Annee'], values = 'Valeur fonciere',\n",
    "                  color_discrete_sequence=px.colors.diverging.Spectral,\n",
    "                  title = 'Part relative de la valeur foncière totale en fonction des années')\n",
    "fig.update_traces(textinfo=\"label+percent entry\")\n",
    "fig.show()"
   ]
  },
  {
   "cell_type": "markdown",
   "id": "377bce11",
   "metadata": {},
   "source": [
    "#### Type de mutations par année :"
   ]
  },
  {
   "cell_type": "code",
   "execution_count": null,
   "id": "0707be9e",
   "metadata": {
    "scrolled": false
   },
   "outputs": [],
   "source": [
    "fig = px.sunburst(df, path=['Annee','Nature mutation'], values = 'Valeur fonciere',\n",
    "                  color_discrete_sequence=px.colors.diverging.Spectral,\n",
    "                  title = 'Part relative du type de mutations en fonction des années')\n",
    "fig.update_traces(textinfo=\"label+percent entry\")\n",
    "fig.show()"
   ]
  },
  {
   "cell_type": "markdown",
   "id": "d050beb2",
   "metadata": {},
   "source": [
    "#### Nombre de mutation par département :"
   ]
  },
  {
   "cell_type": "code",
   "execution_count": null,
   "id": "7b494442",
   "metadata": {},
   "outputs": [],
   "source": [
    "fig = px.histogram(df, x=\"Code departement\",y=\"numero\",histfunc='count')\n",
    "fig.update_layout(xaxis={'categoryorder':'total descending'})\n",
    "fig.show()"
   ]
  },
  {
   "cell_type": "markdown",
   "id": "8d1baeee",
   "metadata": {},
   "source": [
    "#### Type de local par année :"
   ]
  },
  {
   "cell_type": "code",
   "execution_count": null,
   "id": "df60d592",
   "metadata": {},
   "outputs": [],
   "source": [
    "fig = px.histogram(df, x='Type local', y = 'numero', color = 'Type local',\n",
    "                   histfunc = 'count', facet_col='Annee', facet_col_wrap=2)\n",
    "fig.update_layout(xaxis={'categoryorder':'total descending'})\n",
    "fig.show()"
   ]
  },
  {
   "cell_type": "markdown",
   "id": "4480922e",
   "metadata": {},
   "source": [
    "#### Type de mutations par année dans le Rhône (69) :"
   ]
  },
  {
   "cell_type": "code",
   "execution_count": 10,
   "id": "bc7b5524",
   "metadata": {},
   "outputs": [],
   "source": [
    "df_rhone = df[df['Code departement'] == '69']"
   ]
  },
  {
   "cell_type": "code",
   "execution_count": null,
   "id": "d8076b5a",
   "metadata": {
    "scrolled": true
   },
   "outputs": [],
   "source": [
    "df_rhone.head()"
   ]
  },
  {
   "cell_type": "code",
   "execution_count": null,
   "id": "fe034248",
   "metadata": {
    "scrolled": false
   },
   "outputs": [],
   "source": [
    "fig = px.sunburst(df_rhone, path=['Annee','Commune','Nature mutation'], values = 'Valeur fonciere',\n",
    "                  color_discrete_sequence=px.colors.diverging.Spectral)\n",
    "fig.update_traces(textinfo=\"label+percent entry\")\n",
    "fig.show()"
   ]
  },
  {
   "cell_type": "markdown",
   "id": "f87008b3",
   "metadata": {},
   "source": [
    "#### Evolution du nombre de mutations sur Lyon (2017-2020) : "
   ]
  },
  {
   "cell_type": "code",
   "execution_count": 11,
   "id": "439fbf93",
   "metadata": {},
   "outputs": [],
   "source": [
    "df_lyon = df_rhone[df_rhone['Commune'].str.contains(\"^LYON\")]"
   ]
  },
  {
   "cell_type": "code",
   "execution_count": 25,
   "id": "c8996285",
   "metadata": {},
   "outputs": [],
   "source": [
    "df_grouped = df_lyon.groupby(['Commune','Annee'],as_index=False).count()"
   ]
  },
  {
   "cell_type": "code",
   "execution_count": null,
   "id": "9317ef3d",
   "metadata": {
    "scrolled": true
   },
   "outputs": [],
   "source": [
    "px_plot = px.line(df_grouped, x='Annee', y='numero', color = 'Commune',\n",
    "                  color_discrete_sequence=px.colors.qualitative.Bold,markers=True)\n",
    "px_plot.update_traces(marker={'size': 12})\n",
    "px_plot"
   ]
  },
  {
   "cell_type": "markdown",
   "id": "de85aeaa",
   "metadata": {},
   "source": [
    "### Analyse time series"
   ]
  },
  {
   "cell_type": "markdown",
   "id": "d917d882",
   "metadata": {},
   "source": [
    "#### Evolution du nombre de mutations à lyon :"
   ]
  },
  {
   "cell_type": "code",
   "execution_count": null,
   "id": "abab3334",
   "metadata": {
    "scrolled": true
   },
   "outputs": [],
   "source": [
    "fig = px.histogram(df_lyon, x=\"Date mutation\",y=\"numero\",histfunc='count', color = 'Commune',\n",
    "                   facet_col='Commune', facet_col_wrap=3)\n",
    "fig.show()"
   ]
  },
  {
   "cell_type": "markdown",
   "id": "1003da5c",
   "metadata": {},
   "source": [
    "#### Recherche de saisonnalité : "
   ]
  },
  {
   "cell_type": "code",
   "execution_count": null,
   "id": "9c1a6e3c",
   "metadata": {},
   "outputs": [],
   "source": [
    "fig = px.histogram(df_lyon, x=\"Mois\",y=\"numero\",histfunc='count', color = 'Commune',\n",
    "                   facet_col='Commune', facet_col_wrap=3)\n",
    "fig.show()"
   ]
  },
  {
   "cell_type": "code",
   "execution_count": null,
   "id": "2c1d2955",
   "metadata": {
    "scrolled": true
   },
   "outputs": [],
   "source": [
    "fig = px.histogram(df_lyon, x=\"Jour\",y=\"numero\",histfunc='count', color = 'Commune',\n",
    "                   facet_col='Commune', facet_col_wrap=3)\n",
    "fig.show()"
   ]
  }
 ],
 "metadata": {
  "kernelspec": {
   "display_name": "Python 3 (ipykernel)",
   "language": "python",
   "name": "python3"
  },
  "language_info": {
   "codemirror_mode": {
    "name": "ipython",
    "version": 3
   },
   "file_extension": ".py",
   "mimetype": "text/x-python",
   "name": "python",
   "nbconvert_exporter": "python",
   "pygments_lexer": "ipython3",
   "version": "3.10.1"
  }
 },
 "nbformat": 4,
 "nbformat_minor": 5
}
